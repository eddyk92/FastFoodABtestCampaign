{
 "cells": [
  {
   "cell_type": "markdown",
   "id": "79694bd4",
   "metadata": {},
   "source": [
    "## Marketing Campaigns Analysis (A/B testing)\n",
    "#### By Kevin Eddy\n",
    "For this project I'm using the dataset found in the following link: https://www.kaggle.com/datasets/chebotinaa/fast-food-marketing-campaign-ab-test\n",
    "\n",
    "Analysis Background: A fast-food chain plans to add a new item to its menu. However, they are still undecided between three possible marketing campaigns for promoting the new product. In order to determine which promotion has the greatest effect on sales, the new item is introduced at locations in several randomly selected markets. A different promotion is used at each location, and the weekly sales of the new item are recorded for the first four weeks.\n",
    "\n",
    "#### Business Qustion: Which promotion had a bigger impact in sales?\n",
    "\n",
    "First things first - import the necessary libraries and dataset:"
   ]
  },
  {
   "cell_type": "code",
   "execution_count": 1,
   "id": "56965497",
   "metadata": {},
   "outputs": [],
   "source": [
    "import pandas as pd\n",
    "import numpy as np\n",
    "import matplotlib.pyplot as plt\n",
    "import seaborn as sns\n",
    "import scipy.stats as stats\n",
    "import statsmodels.api as sm\n",
    "from statsmodels.formula.api import ols"
   ]
  },
  {
   "cell_type": "code",
   "execution_count": 2,
   "id": "c42820b0",
   "metadata": {},
   "outputs": [],
   "source": [
    "df = pd.read_csv(\"/Users/kevineddy/Desktop/Data Projects/FastFoodCampaignABTest/WA_Marketing-Campaign.csv\")"
   ]
  },
  {
   "cell_type": "markdown",
   "id": "6613b828",
   "metadata": {},
   "source": [
    "Before we begin, print a sample of the dataframe to make sure we import it correctly"
   ]
  },
  {
   "cell_type": "code",
   "execution_count": 3,
   "id": "3881729d",
   "metadata": {},
   "outputs": [
    {
     "data": {
      "text/html": [
       "<div>\n",
       "<style scoped>\n",
       "    .dataframe tbody tr th:only-of-type {\n",
       "        vertical-align: middle;\n",
       "    }\n",
       "\n",
       "    .dataframe tbody tr th {\n",
       "        vertical-align: top;\n",
       "    }\n",
       "\n",
       "    .dataframe thead th {\n",
       "        text-align: right;\n",
       "    }\n",
       "</style>\n",
       "<table border=\"1\" class=\"dataframe\">\n",
       "  <thead>\n",
       "    <tr style=\"text-align: right;\">\n",
       "      <th></th>\n",
       "      <th>MarketID</th>\n",
       "      <th>MarketSize</th>\n",
       "      <th>LocationID</th>\n",
       "      <th>AgeOfStore</th>\n",
       "      <th>Promotion</th>\n",
       "      <th>week</th>\n",
       "      <th>SalesInThousands</th>\n",
       "    </tr>\n",
       "  </thead>\n",
       "  <tbody>\n",
       "    <tr>\n",
       "      <th>55</th>\n",
       "      <td>2</td>\n",
       "      <td>Small</td>\n",
       "      <td>101</td>\n",
       "      <td>22</td>\n",
       "      <td>1</td>\n",
       "      <td>4</td>\n",
       "      <td>60.93</td>\n",
       "    </tr>\n",
       "    <tr>\n",
       "      <th>516</th>\n",
       "      <td>10</td>\n",
       "      <td>Large</td>\n",
       "      <td>913</td>\n",
       "      <td>24</td>\n",
       "      <td>1</td>\n",
       "      <td>1</td>\n",
       "      <td>62.33</td>\n",
       "    </tr>\n",
       "    <tr>\n",
       "      <th>531</th>\n",
       "      <td>10</td>\n",
       "      <td>Large</td>\n",
       "      <td>916</td>\n",
       "      <td>7</td>\n",
       "      <td>2</td>\n",
       "      <td>4</td>\n",
       "      <td>49.71</td>\n",
       "    </tr>\n",
       "    <tr>\n",
       "      <th>137</th>\n",
       "      <td>3</td>\n",
       "      <td>Large</td>\n",
       "      <td>216</td>\n",
       "      <td>4</td>\n",
       "      <td>3</td>\n",
       "      <td>2</td>\n",
       "      <td>74.75</td>\n",
       "    </tr>\n",
       "    <tr>\n",
       "      <th>141</th>\n",
       "      <td>3</td>\n",
       "      <td>Large</td>\n",
       "      <td>217</td>\n",
       "      <td>5</td>\n",
       "      <td>3</td>\n",
       "      <td>2</td>\n",
       "      <td>79.02</td>\n",
       "    </tr>\n",
       "    <tr>\n",
       "      <th>304</th>\n",
       "      <td>6</td>\n",
       "      <td>Medium</td>\n",
       "      <td>512</td>\n",
       "      <td>4</td>\n",
       "      <td>1</td>\n",
       "      <td>1</td>\n",
       "      <td>35.30</td>\n",
       "    </tr>\n",
       "    <tr>\n",
       "      <th>249</th>\n",
       "      <td>5</td>\n",
       "      <td>Medium</td>\n",
       "      <td>413</td>\n",
       "      <td>1</td>\n",
       "      <td>2</td>\n",
       "      <td>2</td>\n",
       "      <td>47.71</td>\n",
       "    </tr>\n",
       "    <tr>\n",
       "      <th>288</th>\n",
       "      <td>6</td>\n",
       "      <td>Medium</td>\n",
       "      <td>508</td>\n",
       "      <td>5</td>\n",
       "      <td>3</td>\n",
       "      <td>1</td>\n",
       "      <td>37.17</td>\n",
       "    </tr>\n",
       "    <tr>\n",
       "      <th>458</th>\n",
       "      <td>9</td>\n",
       "      <td>Medium</td>\n",
       "      <td>808</td>\n",
       "      <td>20</td>\n",
       "      <td>3</td>\n",
       "      <td>3</td>\n",
       "      <td>60.97</td>\n",
       "    </tr>\n",
       "    <tr>\n",
       "      <th>386</th>\n",
       "      <td>8</td>\n",
       "      <td>Medium</td>\n",
       "      <td>702</td>\n",
       "      <td>13</td>\n",
       "      <td>1</td>\n",
       "      <td>3</td>\n",
       "      <td>49.44</td>\n",
       "    </tr>\n",
       "  </tbody>\n",
       "</table>\n",
       "</div>"
      ],
      "text/plain": [
       "     MarketID MarketSize  LocationID  AgeOfStore  Promotion  week  \\\n",
       "55          2      Small         101          22          1     4   \n",
       "516        10      Large         913          24          1     1   \n",
       "531        10      Large         916           7          2     4   \n",
       "137         3      Large         216           4          3     2   \n",
       "141         3      Large         217           5          3     2   \n",
       "304         6     Medium         512           4          1     1   \n",
       "249         5     Medium         413           1          2     2   \n",
       "288         6     Medium         508           5          3     1   \n",
       "458         9     Medium         808          20          3     3   \n",
       "386         8     Medium         702          13          1     3   \n",
       "\n",
       "     SalesInThousands  \n",
       "55              60.93  \n",
       "516             62.33  \n",
       "531             49.71  \n",
       "137             74.75  \n",
       "141             79.02  \n",
       "304             35.30  \n",
       "249             47.71  \n",
       "288             37.17  \n",
       "458             60.97  \n",
       "386             49.44  "
      ]
     },
     "execution_count": 3,
     "metadata": {},
     "output_type": "execute_result"
    }
   ],
   "source": [
    "df.sample(10)"
   ]
  },
  {
   "cell_type": "markdown",
   "id": "d8cf1992",
   "metadata": {},
   "source": [
    "Getting familiar with the dataset"
   ]
  },
  {
   "cell_type": "markdown",
   "id": "66c5e342",
   "metadata": {},
   "source": [
    "The shape function is telling us that the dataframe has 7 columns and 548 rows."
   ]
  },
  {
   "cell_type": "code",
   "execution_count": 4,
   "id": "12021ae6",
   "metadata": {},
   "outputs": [
    {
     "data": {
      "text/plain": [
       "(548, 7)"
      ]
     },
     "execution_count": 4,
     "metadata": {},
     "output_type": "execute_result"
    }
   ],
   "source": [
    "df.shape"
   ]
  },
  {
   "cell_type": "markdown",
   "id": "26c6f653",
   "metadata": {},
   "source": [
    "The dtypes function is returning the data type of each of the 7 columns."
   ]
  },
  {
   "cell_type": "code",
   "execution_count": 5,
   "id": "109786a6",
   "metadata": {},
   "outputs": [
    {
     "data": {
      "text/plain": [
       "MarketID              int64\n",
       "MarketSize           object\n",
       "LocationID            int64\n",
       "AgeOfStore            int64\n",
       "Promotion             int64\n",
       "week                  int64\n",
       "SalesInThousands    float64\n",
       "dtype: object"
      ]
     },
     "execution_count": 5,
     "metadata": {},
     "output_type": "execute_result"
    }
   ],
   "source": [
    "df.dtypes"
   ]
  },
  {
   "cell_type": "markdown",
   "id": "5c66a791",
   "metadata": {},
   "source": [
    "Use the isna and sum functions to check if there are any null values in the columns. In this case we don't have any null value."
   ]
  },
  {
   "cell_type": "code",
   "execution_count": 6,
   "id": "ab0667a3",
   "metadata": {},
   "outputs": [
    {
     "data": {
      "text/plain": [
       "MarketID            0\n",
       "MarketSize          0\n",
       "LocationID          0\n",
       "AgeOfStore          0\n",
       "Promotion           0\n",
       "week                0\n",
       "SalesInThousands    0\n",
       "dtype: int64"
      ]
     },
     "execution_count": 6,
     "metadata": {},
     "output_type": "execute_result"
    }
   ],
   "source": [
    "df.isna().sum()"
   ]
  },
  {
   "cell_type": "markdown",
   "id": "8af92009",
   "metadata": {},
   "source": [
    "Use the duplicated and sum functions to see if there are any ducplicated rows. In this case we don't have any. \n",
    "\n",
    "Awesome, looks like the dataframe is ready to use."
   ]
  },
  {
   "cell_type": "code",
   "execution_count": 7,
   "id": "e83df904",
   "metadata": {},
   "outputs": [
    {
     "data": {
      "text/plain": [
       "0"
      ]
     },
     "execution_count": 7,
     "metadata": {},
     "output_type": "execute_result"
    }
   ],
   "source": [
    "df.duplicated().sum()"
   ]
  },
  {
   "cell_type": "markdown",
   "id": "c690004b",
   "metadata": {},
   "source": [
    "Lastly, with the nunique function we can check how many distinct values we have in each column."
   ]
  },
  {
   "cell_type": "code",
   "execution_count": 8,
   "id": "e0907e6e",
   "metadata": {},
   "outputs": [
    {
     "data": {
      "text/plain": [
       "MarketID             10\n",
       "MarketSize            3\n",
       "LocationID          137\n",
       "AgeOfStore           25\n",
       "Promotion             3\n",
       "week                  4\n",
       "SalesInThousands    517\n",
       "dtype: int64"
      ]
     },
     "execution_count": 8,
     "metadata": {},
     "output_type": "execute_result"
    }
   ],
   "source": [
    "df.nunique()"
   ]
  },
  {
   "cell_type": "markdown",
   "id": "3b14b9a4",
   "metadata": {},
   "source": [
    "Before we get started on analyzing the A/B test, let's start with some exploratory analysis to see what we can expect and gain a better understanding of the data.\n"
   ]
  },
  {
   "cell_type": "markdown",
   "id": "b4bbb4b8",
   "metadata": {},
   "source": [
    "Let's count how many times each promotion was ran. \n",
    "\n",
    " - First we create a new dataframe called 'count' by grouping the number of rows by column 'Promotion' and counting the number of rows in each group.\n",
    "\n",
    " - We then rename the 'Prommotion' coloumn to 'Count' "
   ]
  },
  {
   "cell_type": "code",
   "execution_count": 9,
   "id": "285699bc",
   "metadata": {},
   "outputs": [
    {
     "data": {
      "text/html": [
       "<div>\n",
       "<style scoped>\n",
       "    .dataframe tbody tr th:only-of-type {\n",
       "        vertical-align: middle;\n",
       "    }\n",
       "\n",
       "    .dataframe tbody tr th {\n",
       "        vertical-align: top;\n",
       "    }\n",
       "\n",
       "    .dataframe thead th {\n",
       "        text-align: right;\n",
       "    }\n",
       "</style>\n",
       "<table border=\"1\" class=\"dataframe\">\n",
       "  <thead>\n",
       "    <tr style=\"text-align: right;\">\n",
       "      <th></th>\n",
       "      <th>Promotion</th>\n",
       "      <th>Count</th>\n",
       "    </tr>\n",
       "  </thead>\n",
       "  <tbody>\n",
       "    <tr>\n",
       "      <th>0</th>\n",
       "      <td>1</td>\n",
       "      <td>172</td>\n",
       "    </tr>\n",
       "    <tr>\n",
       "      <th>1</th>\n",
       "      <td>2</td>\n",
       "      <td>188</td>\n",
       "    </tr>\n",
       "    <tr>\n",
       "      <th>2</th>\n",
       "      <td>3</td>\n",
       "      <td>188</td>\n",
       "    </tr>\n",
       "  </tbody>\n",
       "</table>\n",
       "</div>"
      ],
      "text/plain": [
       "   Promotion  Count\n",
       "0          1    172\n",
       "1          2    188\n",
       "2          3    188"
      ]
     },
     "execution_count": 9,
     "metadata": {},
     "output_type": "execute_result"
    }
   ],
   "source": [
    "count = pd.DataFrame(df.groupby(['Promotion'])['Promotion'].count())\n",
    "count.rename(columns = {'Promotion': 'Count'}, inplace = True)\n",
    "count.reset_index(inplace = True)\n",
    "count"
   ]
  },
  {
   "cell_type": "markdown",
   "id": "018ffb69",
   "metadata": {},
   "source": [
    "For better visualization we can plot the number of times each promotion was ran, along with the sales distribution of each promotion using a bar chart and a boxplot respectively."
   ]
  },
  {
   "cell_type": "code",
   "execution_count": 18,
   "id": "e50a2fbf",
   "metadata": {},
   "outputs": [
    {
     "data": {
      "image/png": "[encoded data removed]",
      "text/plain": [
       "<Figure size 432x288 with 1 Axes>"
      ]
     },
     "metadata": {
      "needs_background": "light"
     },
     "output_type": "display_data"
    }
   ],
   "source": [
    "fig = sns.barplot(x = 'Promotion', y = 'Count',\n",
    "                 data = count)\n",
    "\n",
    "for i in fig.containers:\n",
    "    fig.bar_label(i,)\n",
    "fig.set_title('Number of Promotions')\n",
    "\n",
    "plt.show()"
   ]
  },
  {
   "cell_type": "code",
   "execution_count": 11,
   "id": "3f3d471c",
   "metadata": {},
   "outputs": [
    {
     "data": {
      "text/plain": [
       "Text(0.5, 1.0, 'Distribution of Sales (K)')"
      ]
     },
     "execution_count": 11,
     "metadata": {},
     "output_type": "execute_result"
    },
    {
     "data": {
      "image/png": "[encoded data removed]",
      "text/plain": [
       "<Figure size 432x288 with 1 Axes>"
      ]
     },
     "metadata": {
      "needs_background": "light"
     },
     "output_type": "display_data"
    }
   ],
   "source": [
    "fig2 = sns.boxplot(y = 'SalesInThousands',\n",
    "            x = 'Promotion',\n",
    "            data = df,\n",
    "            showmeans = True,\n",
    "            meanprops = {'markerfacecolor': 'white',\n",
    "                         'markeredgecolor': 'black',\n",
    "                         'marker' : 'o'})\n",
    "fig2.set_title('Distribution of Sales (K)')\n"
   ]
  },
  {
   "cell_type": "markdown",
   "id": "3b3e273b",
   "metadata": {},
   "source": [
    "The boxplot shows that the median sales for promotions 1 and 3 are higher than the median sales for promotion 2. This means that half of the sales for promotions 1 and 3 are higher than the median value, and half are lower. The same is true for promotion 2.\n",
    "\n",
    "The white dot in each boxplot represents the mean, which is the average value of all the sales for that promotion. The mean sales for promotions 1 and 3 are also higher than the mean sales for promotion 2.\n",
    "\n",
    "This all tells us that the distribution of sales is higher for promotions 1 and 3 than for promotion 2. This could be because the promotions for 1 and 3 are more effective."
   ]
  },
  {
   "cell_type": "markdown",
   "id": "82d1100b",
   "metadata": {},
   "source": [
    "Now lets do the same but also including the Market Size, to see if there is any difference between them."
   ]
  },
  {
   "cell_type": "code",
   "execution_count": 12,
   "id": "a34285ea",
   "metadata": {},
   "outputs": [
    {
     "data": {
      "text/html": [
       "<div>\n",
       "<style scoped>\n",
       "    .dataframe tbody tr th:only-of-type {\n",
       "        vertical-align: middle;\n",
       "    }\n",
       "\n",
       "    .dataframe tbody tr th {\n",
       "        vertical-align: top;\n",
       "    }\n",
       "\n",
       "    .dataframe thead th {\n",
       "        text-align: right;\n",
       "    }\n",
       "</style>\n",
       "<table border=\"1\" class=\"dataframe\">\n",
       "  <thead>\n",
       "    <tr style=\"text-align: right;\">\n",
       "      <th></th>\n",
       "      <th>MarketSize</th>\n",
       "      <th>Promotion</th>\n",
       "      <th>Count</th>\n",
       "    </tr>\n",
       "  </thead>\n",
       "  <tbody>\n",
       "    <tr>\n",
       "      <th>0</th>\n",
       "      <td>Large</td>\n",
       "      <td>1</td>\n",
       "      <td>56</td>\n",
       "    </tr>\n",
       "    <tr>\n",
       "      <th>1</th>\n",
       "      <td>Large</td>\n",
       "      <td>2</td>\n",
       "      <td>64</td>\n",
       "    </tr>\n",
       "    <tr>\n",
       "      <th>2</th>\n",
       "      <td>Large</td>\n",
       "      <td>3</td>\n",
       "      <td>48</td>\n",
       "    </tr>\n",
       "    <tr>\n",
       "      <th>3</th>\n",
       "      <td>Medium</td>\n",
       "      <td>1</td>\n",
       "      <td>96</td>\n",
       "    </tr>\n",
       "    <tr>\n",
       "      <th>4</th>\n",
       "      <td>Medium</td>\n",
       "      <td>2</td>\n",
       "      <td>108</td>\n",
       "    </tr>\n",
       "    <tr>\n",
       "      <th>5</th>\n",
       "      <td>Medium</td>\n",
       "      <td>3</td>\n",
       "      <td>116</td>\n",
       "    </tr>\n",
       "    <tr>\n",
       "      <th>6</th>\n",
       "      <td>Small</td>\n",
       "      <td>1</td>\n",
       "      <td>20</td>\n",
       "    </tr>\n",
       "    <tr>\n",
       "      <th>7</th>\n",
       "      <td>Small</td>\n",
       "      <td>2</td>\n",
       "      <td>16</td>\n",
       "    </tr>\n",
       "    <tr>\n",
       "      <th>8</th>\n",
       "      <td>Small</td>\n",
       "      <td>3</td>\n",
       "      <td>24</td>\n",
       "    </tr>\n",
       "  </tbody>\n",
       "</table>\n",
       "</div>"
      ],
      "text/plain": [
       "  MarketSize  Promotion  Count\n",
       "0      Large          1     56\n",
       "1      Large          2     64\n",
       "2      Large          3     48\n",
       "3     Medium          1     96\n",
       "4     Medium          2    108\n",
       "5     Medium          3    116\n",
       "6      Small          1     20\n",
       "7      Small          2     16\n",
       "8      Small          3     24"
      ]
     },
     "execution_count": 12,
     "metadata": {},
     "output_type": "execute_result"
    }
   ],
   "source": [
    "count2 = pd.DataFrame(df.groupby(['MarketSize', 'Promotion'])['Promotion'].count())\n",
    "count2.rename(columns = {'Promotion': 'Count'}, inplace = True)\n",
    "count2.reset_index(inplace = True)\n",
    "count2"
   ]
  },
  {
   "cell_type": "code",
   "execution_count": 17,
   "id": "00059903",
   "metadata": {},
   "outputs": [
    {
     "data": {
      "image/png": "[encoded data removed]",
      "text/plain": [
       "<Figure size 432x288 with 1 Axes>"
      ]
     },
     "metadata": {
      "needs_background": "light"
     },
     "output_type": "display_data"
    }
   ],
   "source": [
    "fig = sns.barplot(x = 'MarketSize',\n",
    "                y = 'Count',\n",
    "                hue = 'Promotion',\n",
    "                data = count2,\n",
    "                order = ['Small', 'Medium', 'Large'])\n",
    "\n",
    "for i in fig.containers:\n",
    "    fig.bar_label(i)\n",
    "fig.set_title('Number of Promotions By Market Size')\n",
    "plt.show()\n"
   ]
  },
  {
   "cell_type": "code",
   "execution_count": 20,
   "id": "17323f4d",
   "metadata": {},
   "outputs": [
    {
     "data": {
      "text/plain": [
       "Text(0.5, 1.0, 'Distribution of Sales (K)')"
      ]
     },
     "execution_count": 20,
     "metadata": {},
     "output_type": "execute_result"
    },
    {
     "data": {
      "image/png": "[encoded data removed]",
      "text/plain": [
       "<Figure size 432x288 with 1 Axes>"
      ]
     },
     "metadata": {
      "needs_background": "light"
     },
     "output_type": "display_data"
    }
   ],
   "source": [
    "fig2 = sns.boxplot(y = 'SalesInThousands',\n",
    "                   x = 'MarketSize',\n",
    "                   hue = 'Promotion',\n",
    "                   data = df,\n",
    "                   order = ['Small', 'Medium', 'Large'],\n",
    "                   showmeans = True,\n",
    "                   meanprops = {'markerfacecolor': 'white',\n",
    "                                'markeredgecolor': 'black',\n",
    "                                'marker': 'o'})\n",
    "fig2.set_title('Distribution of Sales (K)')"
   ]
  },
  {
   "cell_type": "markdown",
   "id": "2d0b8704",
   "metadata": {},
   "source": [
    "Looks like promotions 1 and 3 are performing better across markets.\n",
    "\n",
    "From looking at the boxplots, we can see that promotions 1 and 3 appear to increase the sales mean, while promotion 2 appears to not be as efficient.\n",
    "\n",
    "Boxplots are great to give us a quick idea of our campaign performance but to have a better understanding of the data lets performe an ANOVA test, which will tell us if the differences of the means between promotions is statistically significant.\n",
    "\n",
    "Before performing the ANOVA test, our data has to meet three assumptions:\n",
    " - All groups are independent from one another and data is not repeated measures.\n",
    " - Responses (the data) have a normal distribution.\n",
    " - Variance of all groups are similar (approximately equal).\n",
    " \n",
    "We can't test the first assumption, but we can assume it was taken into consideration when designing the study. But we can test the second and third assumptions."
   ]
  },
  {
   "cell_type": "markdown",
   "id": "9a6681c9",
   "metadata": {},
   "source": [
    "#### Normality tests\n",
    "To test the second assumption we will use a Shapiro-Wilk test, which will tell us if the distribution of our data is normally distributed, and Q-Q plot, to graphically visualize if the distributions meet a normal distribution."
   ]
  },
  {
   "cell_type": "code",
   "execution_count": 44,
   "id": "92715ded",
   "metadata": {},
   "outputs": [],
   "source": [
    "def normality_test(df, size = 'All'): # define function that takes in dataframe and the size of the data we want to test\n",
    "\n",
    "    fig, ax = plt.subplots(1, 3, figsize = (10,5)) \n",
    "    index = 0 # the function first returns three figures where the subplots are plotted. Index keeps track of the current subplot\n",
    "\n",
    "    for promotion in np.sort(df['Promotion'].unique()): # the second part of the function loops over the unique values in Promotion column\n",
    "                                                        # for each promotion, the function does the following:\n",
    "                                                            # - creates a DataFrame called data that contains the data for the current promotion.\n",
    "                                                            # - fits a linear regression model to the data.\n",
    "                                                            # - calculates the p-value of the Shapiro-Wilk normality test for the residuals of the model.\n",
    "                                                            # - plots the QQ plot of the residuals of the model.\n",
    "        data = df[df['Promotion'] == promotion]\n",
    "        model = ols('SalesInThousands ~ Promotion', data = data).fit()\n",
    "        print('Market size: ', size, '\\nPromotion: ',promotion, '\\nResults: ', stats.shapiro(model.resid))\n",
    "        print('')\n",
    "\n",
    "        sm.qqplot(model.resid, line='s', ax = ax[index])\n",
    "        ax[index].set_title('Market Size: ' + size + '\\nPromotion: '+ str(promotion))\n",
    "        index+=1\n",
    "\n",
    "    plt.show()"
   ]
  },
  {
   "cell_type": "markdown",
   "id": "ecb192df",
   "metadata": {},
   "source": [
    "#### Shapiro-Wilk test\n",
    "The Shapiro-Wilk test is a hypothesis test, where the null hypothesis is that the data is normally distributed, while the alternative hypothesis is that it is not normally distributed.\n",
    "\n",
    "Null Hypothesis (Ho): The data is normally distributed.\n",
    "Alternative Hypothesis (Ha): The data is not normally distributed.\n",
    "We will be using a 95% confidence interval and a 0.05 significance level to identify which of our hypothesis are correct.\n",
    "\n",
    "#### All Market Sizes\n",
    "Let's first conduct the tests for all markets combined"
   ]
  },
  {
   "cell_type": "code",
   "execution_count": 43,
   "id": "1ad78a82",
   "metadata": {},
   "outputs": [
    {
     "name": "stdout",
     "output_type": "stream",
     "text": [
      "Market size:  All \n",
      "Promotion:  1 \n",
      "Results:  ShapiroResult(statistic=0.9152998328208923, pvalue=1.9772498305314912e-08)\n",
      "\n",
      "Market size:  All \n",
      "Promotion:  2 \n",
      "Results:  ShapiroResult(statistic=0.9145089983940125, pvalue=5.4563846774158264e-09)\n",
      "\n",
      "Market size:  All \n",
      "Promotion:  3 \n",
      "Results:  ShapiroResult(statistic=0.9207683801651001, pvalue=1.4994856911698662e-08)\n",
      "\n"
     ]
    },
    {
     "data": {
      "image/png": "[encoded data removed]",
      "text/plain": [
       "<Figure size 720x360 with 3 Axes>"
      ]
     },
     "metadata": {
      "needs_background": "light"
     },
     "output_type": "display_data"
    }
   ],
   "source": [
    "normality_test(df)"
   ]
  },
  {
   "cell_type": "markdown",
   "id": "d7ed79d8",
   "metadata": {},
   "source": [
    "After performing the first tests, we can see that the p-value of the Shapiro-Wilk test is less than the 0.05 (significance level) for the responces of each promotion. Therefore the null hypothesis is rejected and we can conclude that the distribution of our data is not normally distributed (when taking all market sizes together). We can also see in the Q-Q plot that the percentiles of our data is not aligned to a normal distribution (red line).\n",
    "\n",
    "To complete the whole normality test, let's do the same for each market size: small, medium and large.\n",
    "\n",
    "#### Small-sized market"
   ]
  },
  {
   "cell_type": "code",
   "execution_count": 45,
   "id": "a280f2f2",
   "metadata": {},
   "outputs": [],
   "source": [
    "small_market = df[df['MarketSize'] == 'Small']\n",
    "medium_market = df[df['MarketSize'] == 'Medium']\n",
    "large_market = df[df['MarketSize'] == 'Large']"
   ]
  },
  {
   "cell_type": "code",
   "execution_count": 46,
   "id": "325b907b",
   "metadata": {},
   "outputs": [
    {
     "name": "stdout",
     "output_type": "stream",
     "text": [
      "Market size:  Small \n",
      "Promotion:  1 \n",
      "Results:  ShapiroResult(statistic=0.9466673731803894, pvalue=0.3193163573741913)\n",
      "\n",
      "Market size:  Small \n",
      "Promotion:  2 \n",
      "Results:  ShapiroResult(statistic=0.9612027406692505, pvalue=0.6836740374565125)\n",
      "\n",
      "Market size:  Small \n",
      "Promotion:  3 \n",
      "Results:  ShapiroResult(statistic=0.9816325306892395, pvalue=0.9239219427108765)\n",
      "\n"
     ]
    },
    {
     "data": {
      "image/png": "[encoded data removed]",
      "text/plain": [
       "<Figure size 720x360 with 3 Axes>"
      ]
     },
     "metadata": {
      "needs_background": "light"
     },
     "output_type": "display_data"
    }
   ],
   "source": [
    "normality_test(small_market, size = 'Small')"
   ]
  },
  {
   "cell_type": "markdown",
   "id": "310e5106",
   "metadata": {},
   "source": [
    "When we only include the small market data, the p-value in all promotions are above 0.05 (significance level), thus the null hypothesis is accepted and we can conclude that the distribution of the data is normally distributed when only taking the small-sized market. Also notice how the percentiles of the data are closer to the red line in the Q-Q plot.\n",
    "\n",
    "#### Medium-sized market"
   ]
  },
  {
   "cell_type": "code",
   "execution_count": 47,
   "id": "3db10f7e",
   "metadata": {},
   "outputs": [
    {
     "name": "stdout",
     "output_type": "stream",
     "text": [
      "Market size:  Medium \n",
      "Promotion:  1 \n",
      "Results:  ShapiroResult(statistic=0.9788878560066223, pvalue=0.12412339448928833)\n",
      "\n",
      "Market size:  Medium \n",
      "Promotion:  2 \n",
      "Results:  ShapiroResult(statistic=0.9882073998451233, pvalue=0.4665355384349823)\n",
      "\n",
      "Market size:  Medium \n",
      "Promotion:  3 \n",
      "Results:  ShapiroResult(statistic=0.9830237627029419, pvalue=0.15067841112613678)\n",
      "\n"
     ]
    },
    {
     "data": {
      "image/png": "[encoded data removed]",
      "text/plain": [
       "<Figure size 720x360 with 3 Axes>"
      ]
     },
     "metadata": {
      "needs_background": "light"
     },
     "output_type": "display_data"
    }
   ],
   "source": [
    "normality_test(medium_market, size = 'Medium')"
   ]
  },
  {
   "cell_type": "markdown",
   "id": "64ca0728",
   "metadata": {},
   "source": [
    "When we only consider the data for the medium-sized market, the null hypothesis is accepted, which means that the data is normally distributed. This is supported by the fact that the percentiles of the data are once again closer to the red line, which represents the theoretical normal distribution.\n",
    "\n",
    "#### Large-sized market"
   ]
  },
  {
   "cell_type": "code",
   "execution_count": 48,
   "id": "bb0a964d",
   "metadata": {},
   "outputs": [
    {
     "name": "stdout",
     "output_type": "stream",
     "text": [
      "Market size:  large \n",
      "Promotion:  1 \n",
      "Results:  ShapiroResult(statistic=0.8993790149688721, pvalue=0.00020807083637919277)\n",
      "\n",
      "Market size:  large \n",
      "Promotion:  2 \n",
      "Results:  ShapiroResult(statistic=0.8425072431564331, pvalue=9.793707249627914e-07)\n",
      "\n",
      "Market size:  large \n",
      "Promotion:  3 \n",
      "Results:  ShapiroResult(statistic=0.8405065536499023, pvalue=1.2286296623642556e-05)\n",
      "\n"
     ]
    },
    {
     "data": {
      "image/png": "[encoded data removed]",
      "text/plain": [
       "<Figure size 720x360 with 3 Axes>"
      ]
     },
     "metadata": {
      "needs_background": "light"
     },
     "output_type": "display_data"
    }
   ],
   "source": [
    "normality_test(large_market, size = 'large')"
   ]
  },
  {
   "cell_type": "markdown",
   "id": "9c1e99e4",
   "metadata": {},
   "source": [
    "In the large-sized market, we can see that the percentiles are way off the red line, and the p-values are less than 0.05. Therefore in the large-sized market, the data is not normally distributed.\n",
    "\n",
    "Since our data doesn't meet the second of the three assumptions previously mentioned, we can't performe an ANOVA test. At this point we don't need to test the third assumption, but we can do it just to see what the outcome is.\n",
    "\n",
    "#### Leveve test\n",
    "To test the homoscedasticity (if the variances are equal) we can performe a Levene test. It's similar to the Shapiro-Wilk test, but it will tell us if the data across promotions have equal variances.\n",
    " - Null Hypothesis (Ho): The variances of the groups (promotions) are equal.\n",
    " - Alternative Hypothesis (Ha): The variances of the groups (promotions) are not equal."
   ]
  },
  {
   "cell_type": "code",
   "execution_count": 49,
   "id": "762c9519",
   "metadata": {},
   "outputs": [],
   "source": [
    "def variance_test(df, size = 'All'):\n",
    "    \n",
    "    print('Market Size: ' + size + '\\nResults: ' + str(\n",
    "    stats.levene(df[df['Promotion']==1]['SalesInThousands'], \n",
    "                 df[df['Promotion']==2]['SalesInThousands'], \n",
    "                 df[df['Promotion']==3]['SalesInThousands'])))"
   ]
  },
  {
   "cell_type": "code",
   "execution_count": 50,
   "id": "2171318a",
   "metadata": {},
   "outputs": [
    {
     "name": "stdout",
     "output_type": "stream",
     "text": [
      "Market Size: All\n",
      "Results: LeveneResult(statistic=1.2696787527507418, pvalue=0.2817514565692118)\n",
      "\n",
      "Market Size: Small\n",
      "Results: LeveneResult(statistic=0.06363402963211742, pvalue=0.9384149081167994)\n",
      "\n",
      "Market Size: Medium\n",
      "Results: LeveneResult(statistic=0.8597064595109022, pvalue=0.4242708096568547)\n",
      "\n",
      "Market Size: Large\n",
      "Results: LeveneResult(statistic=2.1946700879832215, pvalue=0.11463681252166026)\n",
      "\n"
     ]
    }
   ],
   "source": [
    "dfs = [df, small_market, medium_market, large_market]\n",
    "sizes = ['All', 'Small', 'Medium', 'Large']\n",
    "\n",
    "for data, size in zip(dfs, sizes):\n",
    "    variance_test(data, size)\n",
    "    print('')"
   ]
  },
  {
   "cell_type": "markdown",
   "id": "84328159",
   "metadata": {},
   "source": [
    "When combining market sizes together and on their own, the p-value is more than 0.05, therefore the null hypothesis is accepted (in all cases), the variances are equal.\n",
    "\n",
    "#### Kruskal-Wallis test\n",
    "As mentioned before, we can't performe the ANOVA test since the data doesn't meet the second assumption.\n",
    "\n",
    "However, we can use the Kruskal-Wallis test, which is a counterpart to the ANOVA test, and doesn't require us to make assumptions about the data.\n",
    "\n",
    "Null Hypothesis (Ho): The means of the groups (promotions) are equal.\n",
    "Alternative Hypothesis (Ha): The means of the groups (promotions) are not equal.\n",
    "\n",
    "### Kruskal-Wallis"
   ]
  },
  {
   "cell_type": "code",
   "execution_count": 51,
   "id": "f37665dc",
   "metadata": {},
   "outputs": [],
   "source": [
    "def kruskal_test(df, size):\n",
    "    print('Market Size: ' + size + '\\nResults: ' + str(\n",
    "    stats.kruskal(df[df['Promotion']==1]['SalesInThousands'], \n",
    "                  df[df['Promotion']==2]['SalesInThousands'], \n",
    "                  df[df['Promotion']==3]['SalesInThousands'])))"
   ]
  },
  {
   "cell_type": "code",
   "execution_count": 52,
   "id": "ef7f4a01",
   "metadata": {},
   "outputs": [
    {
     "name": "stdout",
     "output_type": "stream",
     "text": [
      "Market Size: All\n",
      "Results: KruskalResult(statistic=53.29475169322799, pvalue=2.6741866266697816e-12)\n",
      "\n",
      "Market Size: Small\n",
      "Results: KruskalResult(statistic=21.046561565107865, pvalue=2.6902783992842076e-05)\n",
      "\n",
      "Market Size: Medium\n",
      "Results: KruskalResult(statistic=45.66905272176446, pvalue=1.210852393530555e-10)\n",
      "\n",
      "Market Size: Large\n",
      "Results: KruskalResult(statistic=41.02960567436476, pvalue=1.231783352943042e-09)\n",
      "\n"
     ]
    }
   ],
   "source": [
    "dfs = [df, small_market, medium_market, large_market]\n",
    "sizes = ['All', 'Small', 'Medium', 'Large']\n",
    "\n",
    "for data, size in zip(dfs, sizes):\n",
    "    kruskal_test(data, size)\n",
    "    print('')"
   ]
  },
  {
   "cell_type": "markdown",
   "id": "67f37f50",
   "metadata": {},
   "source": [
    "The p-value for all tests, both when all market sizes are considered together and when each market size is considered separately, is less than 0.05. This means that we can reject the null hypothesis in all cases. Therefore, we can conclude that there is at least one pair of promotions that has a statistically significant difference in means in each market size.\n",
    "\n",
    "Since we have concluded that there is at least one pair of promotions with a statistically significant difference in means in each market size, let us use another test to confirm this finding.\n",
    "\n",
    "#### Dunn's test\n",
    "To find which pair (or pairs) of promotions are different, we can perform a Dunn's test. To do so, we have to first install a new package: scikit-posthocs"
   ]
  },
  {
   "cell_type": "code",
   "execution_count": 53,
   "id": "257d8f6d",
   "metadata": {},
   "outputs": [
    {
     "name": "stdout",
     "output_type": "stream",
     "text": [
      "Collecting scikit-posthocs\n",
      "  Downloading scikit_posthocs-0.7.0-py3-none-any.whl (38 kB)\n",
      "Requirement already satisfied: numpy in /Users/kevineddy/opt/anaconda3/lib/python3.8/site-packages (from scikit-posthocs) (1.20.1)\n",
      "Requirement already satisfied: pandas>=0.20.0 in /Users/kevineddy/opt/anaconda3/lib/python3.8/site-packages (from scikit-posthocs) (1.3.4)\n",
      "Requirement already satisfied: scipy in /Users/kevineddy/opt/anaconda3/lib/python3.8/site-packages (from scikit-posthocs) (1.6.2)\n",
      "Requirement already satisfied: matplotlib in /Users/kevineddy/opt/anaconda3/lib/python3.8/site-packages (from scikit-posthocs) (3.7.2)\n",
      "Requirement already satisfied: seaborn in /Users/kevineddy/opt/anaconda3/lib/python3.8/site-packages (from scikit-posthocs) (0.11.1)\n",
      "Requirement already satisfied: statsmodels in /Users/kevineddy/opt/anaconda3/lib/python3.8/site-packages (from scikit-posthocs) (0.12.2)\n",
      "Requirement already satisfied: pytz>=2017.3 in /Users/kevineddy/opt/anaconda3/lib/python3.8/site-packages (from pandas>=0.20.0->scikit-posthocs) (2021.1)\n",
      "Requirement already satisfied: python-dateutil>=2.7.3 in /Users/kevineddy/opt/anaconda3/lib/python3.8/site-packages (from pandas>=0.20.0->scikit-posthocs) (2.8.1)\n",
      "Requirement already satisfied: six>=1.5 in /Users/kevineddy/opt/anaconda3/lib/python3.8/site-packages (from python-dateutil>=2.7.3->pandas>=0.20.0->scikit-posthocs) (1.15.0)\n",
      "Requirement already satisfied: importlib-resources>=3.2.0 in /Users/kevineddy/opt/anaconda3/lib/python3.8/site-packages (from matplotlib->scikit-posthocs) (6.0.1)\n",
      "Requirement already satisfied: pyparsing<3.1,>=2.3.1 in /Users/kevineddy/opt/anaconda3/lib/python3.8/site-packages (from matplotlib->scikit-posthocs) (2.4.7)\n",
      "Requirement already satisfied: pillow>=6.2.0 in /Users/kevineddy/opt/anaconda3/lib/python3.8/site-packages (from matplotlib->scikit-posthocs) (8.2.0)\n",
      "Requirement already satisfied: contourpy>=1.0.1 in /Users/kevineddy/opt/anaconda3/lib/python3.8/site-packages (from matplotlib->scikit-posthocs) (1.1.0)\n",
      "Requirement already satisfied: cycler>=0.10 in /Users/kevineddy/opt/anaconda3/lib/python3.8/site-packages (from matplotlib->scikit-posthocs) (0.10.0)\n",
      "Requirement already satisfied: fonttools>=4.22.0 in /Users/kevineddy/opt/anaconda3/lib/python3.8/site-packages (from matplotlib->scikit-posthocs) (4.42.1)\n",
      "Requirement already satisfied: packaging>=20.0 in /Users/kevineddy/opt/anaconda3/lib/python3.8/site-packages (from matplotlib->scikit-posthocs) (20.9)\n",
      "Requirement already satisfied: kiwisolver>=1.0.1 in /Users/kevineddy/opt/anaconda3/lib/python3.8/site-packages (from matplotlib->scikit-posthocs) (1.3.1)\n",
      "Requirement already satisfied: zipp>=3.1.0 in /Users/kevineddy/opt/anaconda3/lib/python3.8/site-packages (from importlib-resources>=3.2.0->matplotlib->scikit-posthocs) (3.4.1)\n",
      "Requirement already satisfied: patsy>=0.5 in /Users/kevineddy/opt/anaconda3/lib/python3.8/site-packages (from statsmodels->scikit-posthocs) (0.5.1)\n",
      "Installing collected packages: scikit-posthocs\n",
      "Successfully installed scikit-posthocs-0.7.0\n"
     ]
    }
   ],
   "source": [
    "!pip install scikit-posthocs"
   ]
  },
  {
   "cell_type": "code",
   "execution_count": 54,
   "id": "b54bc941",
   "metadata": {},
   "outputs": [],
   "source": [
    "import scikit_posthocs as sp"
   ]
  },
  {
   "cell_type": "markdown",
   "id": "6dc96c27",
   "metadata": {},
   "source": [
    "In the Dunn's test the hypothesis are:\n",
    "\n",
    "Null Hypothesis (Ho): The means of the two groups (promotions) are equal. Alternative Hypothesis (Ha): The means of the two groups (promotions) are not equal.\n",
    "\n",
    "To perform the test, let's first create each group of data, this means, to create a group of data with the sale for each promotion."
   ]
  },
  {
   "cell_type": "code",
   "execution_count": 55,
   "id": "c1720ff3",
   "metadata": {},
   "outputs": [],
   "source": [
    "# to simplify the following steps, we define a function named: dunns_test\n",
    "# Parameters:\n",
    "# df: Dataframe to extract the groups from.\n",
    "\n",
    "def dunns_test (df = df):\n",
    "    \n",
    "# the posthoc_dunn function from scikit-posthocs requires a list of the groups\n",
    "# so we create an empy list named: groups.\n",
    "    group=[]\n",
    "    \n",
    "# create a for loop to iterate through promotions and append each group to the groups list.\n",
    "    for a in range(1,4):\n",
    "        promotion_a = df[df['Promotion'] == a]['SalesInThousands']\n",
    "        group.append(promotion_a)\n",
    "        a+=1\n",
    "\n",
    "# return the result of the posthoc_dunn function\n",
    "    return sp.posthoc_dunn(group, p_adjust = 'bonferroni')"
   ]
  },
  {
   "cell_type": "markdown",
   "id": "6ba69216",
   "metadata": {},
   "source": [
    "#### All Market Sizes"
   ]
  },
  {
   "cell_type": "code",
   "execution_count": 57,
   "id": "8904615f",
   "metadata": {},
   "outputs": [
    {
     "data": {
      "text/html": [
       "<div>\n",
       "<style scoped>\n",
       "    .dataframe tbody tr th:only-of-type {\n",
       "        vertical-align: middle;\n",
       "    }\n",
       "\n",
       "    .dataframe tbody tr th {\n",
       "        vertical-align: top;\n",
       "    }\n",
       "\n",
       "    .dataframe thead th {\n",
       "        text-align: right;\n",
       "    }\n",
       "</style>\n",
       "<table border=\"1\" class=\"dataframe\">\n",
       "  <thead>\n",
       "    <tr style=\"text-align: right;\">\n",
       "      <th></th>\n",
       "      <th>1</th>\n",
       "      <th>2</th>\n",
       "      <th>3</th>\n",
       "    </tr>\n",
       "  </thead>\n",
       "  <tbody>\n",
       "    <tr>\n",
       "      <th>1</th>\n",
       "      <td>1.000000e+00</td>\n",
       "      <td>6.461842e-12</td>\n",
       "      <td>1.458660e-01</td>\n",
       "    </tr>\n",
       "    <tr>\n",
       "      <th>2</th>\n",
       "      <td>6.461842e-12</td>\n",
       "      <td>1.000000e+00</td>\n",
       "      <td>7.083069e-07</td>\n",
       "    </tr>\n",
       "    <tr>\n",
       "      <th>3</th>\n",
       "      <td>1.458660e-01</td>\n",
       "      <td>7.083069e-07</td>\n",
       "      <td>1.000000e+00</td>\n",
       "    </tr>\n",
       "  </tbody>\n",
       "</table>\n",
       "</div>"
      ],
      "text/plain": [
       "              1             2             3\n",
       "1  1.000000e+00  6.461842e-12  1.458660e-01\n",
       "2  6.461842e-12  1.000000e+00  7.083069e-07\n",
       "3  1.458660e-01  7.083069e-07  1.000000e+00"
      ]
     },
     "execution_count": 57,
     "metadata": {},
     "output_type": "execute_result"
    }
   ],
   "source": [
    "dunns_test(df = df)"
   ]
  },
  {
   "cell_type": "markdown",
   "id": "91f5b5f1",
   "metadata": {},
   "source": [
    "#### Small Market Size"
   ]
  },
  {
   "cell_type": "code",
   "execution_count": 58,
   "id": "6ed71bf6",
   "metadata": {},
   "outputs": [
    {
     "data": {
      "text/html": [
       "<div>\n",
       "<style scoped>\n",
       "    .dataframe tbody tr th:only-of-type {\n",
       "        vertical-align: middle;\n",
       "    }\n",
       "\n",
       "    .dataframe tbody tr th {\n",
       "        vertical-align: top;\n",
       "    }\n",
       "\n",
       "    .dataframe thead th {\n",
       "        text-align: right;\n",
       "    }\n",
       "</style>\n",
       "<table border=\"1\" class=\"dataframe\">\n",
       "  <thead>\n",
       "    <tr style=\"text-align: right;\">\n",
       "      <th></th>\n",
       "      <th>1</th>\n",
       "      <th>2</th>\n",
       "      <th>3</th>\n",
       "    </tr>\n",
       "  </thead>\n",
       "  <tbody>\n",
       "    <tr>\n",
       "      <th>1</th>\n",
       "      <td>1.000000</td>\n",
       "      <td>0.000117</td>\n",
       "      <td>1.000000</td>\n",
       "    </tr>\n",
       "    <tr>\n",
       "      <th>2</th>\n",
       "      <td>0.000117</td>\n",
       "      <td>1.000000</td>\n",
       "      <td>0.000166</td>\n",
       "    </tr>\n",
       "    <tr>\n",
       "      <th>3</th>\n",
       "      <td>1.000000</td>\n",
       "      <td>0.000166</td>\n",
       "      <td>1.000000</td>\n",
       "    </tr>\n",
       "  </tbody>\n",
       "</table>\n",
       "</div>"
      ],
      "text/plain": [
       "          1         2         3\n",
       "1  1.000000  0.000117  1.000000\n",
       "2  0.000117  1.000000  0.000166\n",
       "3  1.000000  0.000166  1.000000"
      ]
     },
     "execution_count": 58,
     "metadata": {},
     "output_type": "execute_result"
    }
   ],
   "source": [
    "dunns_test(df = small_market)"
   ]
  },
  {
   "cell_type": "markdown",
   "id": "66d7ac64",
   "metadata": {},
   "source": [
    "#### Medium Market Size"
   ]
  },
  {
   "cell_type": "code",
   "execution_count": 59,
   "id": "3a1e5ac4",
   "metadata": {},
   "outputs": [
    {
     "data": {
      "text/html": [
       "<div>\n",
       "<style scoped>\n",
       "    .dataframe tbody tr th:only-of-type {\n",
       "        vertical-align: middle;\n",
       "    }\n",
       "\n",
       "    .dataframe tbody tr th {\n",
       "        vertical-align: top;\n",
       "    }\n",
       "\n",
       "    .dataframe thead th {\n",
       "        text-align: right;\n",
       "    }\n",
       "</style>\n",
       "<table border=\"1\" class=\"dataframe\">\n",
       "  <thead>\n",
       "    <tr style=\"text-align: right;\">\n",
       "      <th></th>\n",
       "      <th>1</th>\n",
       "      <th>2</th>\n",
       "      <th>3</th>\n",
       "    </tr>\n",
       "  </thead>\n",
       "  <tbody>\n",
       "    <tr>\n",
       "      <th>1</th>\n",
       "      <td>1.000000e+00</td>\n",
       "      <td>6.562655e-10</td>\n",
       "      <td>4.312686e-01</td>\n",
       "    </tr>\n",
       "    <tr>\n",
       "      <th>2</th>\n",
       "      <td>6.562655e-10</td>\n",
       "      <td>1.000000e+00</td>\n",
       "      <td>7.805926e-07</td>\n",
       "    </tr>\n",
       "    <tr>\n",
       "      <th>3</th>\n",
       "      <td>4.312686e-01</td>\n",
       "      <td>7.805926e-07</td>\n",
       "      <td>1.000000e+00</td>\n",
       "    </tr>\n",
       "  </tbody>\n",
       "</table>\n",
       "</div>"
      ],
      "text/plain": [
       "              1             2             3\n",
       "1  1.000000e+00  6.562655e-10  4.312686e-01\n",
       "2  6.562655e-10  1.000000e+00  7.805926e-07\n",
       "3  4.312686e-01  7.805926e-07  1.000000e+00"
      ]
     },
     "execution_count": 59,
     "metadata": {},
     "output_type": "execute_result"
    }
   ],
   "source": [
    "dunns_test(df = medium_market)"
   ]
  },
  {
   "cell_type": "markdown",
   "id": "055ddb8a",
   "metadata": {},
   "source": [
    "#### Large Market Size"
   ]
  },
  {
   "cell_type": "code",
   "execution_count": 60,
   "id": "30f7cd48",
   "metadata": {},
   "outputs": [
    {
     "data": {
      "text/html": [
       "<div>\n",
       "<style scoped>\n",
       "    .dataframe tbody tr th:only-of-type {\n",
       "        vertical-align: middle;\n",
       "    }\n",
       "\n",
       "    .dataframe tbody tr th {\n",
       "        vertical-align: top;\n",
       "    }\n",
       "\n",
       "    .dataframe thead th {\n",
       "        text-align: right;\n",
       "    }\n",
       "</style>\n",
       "<table border=\"1\" class=\"dataframe\">\n",
       "  <thead>\n",
       "    <tr style=\"text-align: right;\">\n",
       "      <th></th>\n",
       "      <th>1</th>\n",
       "      <th>2</th>\n",
       "      <th>3</th>\n",
       "    </tr>\n",
       "  </thead>\n",
       "  <tbody>\n",
       "    <tr>\n",
       "      <th>1</th>\n",
       "      <td>1.000000e+00</td>\n",
       "      <td>1.509844e-07</td>\n",
       "      <td>1.000000e+00</td>\n",
       "    </tr>\n",
       "    <tr>\n",
       "      <th>2</th>\n",
       "      <td>1.509844e-07</td>\n",
       "      <td>1.000000e+00</td>\n",
       "      <td>1.533086e-07</td>\n",
       "    </tr>\n",
       "    <tr>\n",
       "      <th>3</th>\n",
       "      <td>1.000000e+00</td>\n",
       "      <td>1.533086e-07</td>\n",
       "      <td>1.000000e+00</td>\n",
       "    </tr>\n",
       "  </tbody>\n",
       "</table>\n",
       "</div>"
      ],
      "text/plain": [
       "              1             2             3\n",
       "1  1.000000e+00  1.509844e-07  1.000000e+00\n",
       "2  1.509844e-07  1.000000e+00  1.533086e-07\n",
       "3  1.000000e+00  1.533086e-07  1.000000e+00"
      ]
     },
     "execution_count": 60,
     "metadata": {},
     "output_type": "execute_result"
    }
   ],
   "source": [
    "dunns_test(df = large_market)"
   ]
  },
  {
   "cell_type": "markdown",
   "id": "7c8689b6",
   "metadata": {},
   "source": [
    "The output of the test is the p-value of the Dunn's test for each pair of promotions. Therefore, if the p-value is greater than 0.05 (significance level) the null hypothesis is accepted, otherwise it is rejected.\n",
    "\n",
    "In all the tests (all market sized together and each market size separately) we got the same result.\n",
    "\n",
    "For Promotion 1 vs Promotion 2 the null hypothesis is rejected.\n",
    "For Promotion 1 vs Promotion 3 the null hypothesis is accepted.\n",
    "For Promotion 2 vs Promotion 3 the null hypothesis is rejected.\n",
    "\n",
    "That being said, we now have enough statistical arguments to say that:\n",
    "\n",
    "#### We can expect higher sales with promotions 1 and 3 than with promotion 2."
   ]
  },
  {
   "cell_type": "code",
   "execution_count": null,
   "id": "1e31f565",
   "metadata": {},
   "outputs": [],
   "source": []
  }
 ],
 "metadata": {
  "kernelspec": {
   "display_name": "Python 3",
   "language": "python",
   "name": "python3"
  },
  "language_info": {
   "codemirror_mode": {
    "name": "ipython",
    "version": 3
   },
   "file_extension": ".py",
   "mimetype": "text/x-python",
   "name": "python",
   "nbconvert_exporter": "python",
   "pygments_lexer": "ipython3",
   "version": "3.8.8"
  }
 },
 "nbformat": 4,
 "nbformat_minor": 5
}
